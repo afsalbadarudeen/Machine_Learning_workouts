{
 "cells": [
  {
   "cell_type": "code",
   "execution_count": 89,
   "id": "f9d3b50f",
   "metadata": {},
   "outputs": [],
   "source": [
    "import warnings\n",
    "import statsmodels.formula.api as smf\n",
    "import seaborn as sns\n",
    "import matplotlib.pyplot as plt\n",
    "warnings.filterwarnings('ignore')\n",
    "import pandas as pd\n",
    "import numpy as np\n",
    "delivery=pd.read_csv(\"C:\\\\Users\\\\Govind S\\\\Downloads\\\\ds\\\\ds files\\\\assignments\\\\simple linear regression\\\\delivery_time.csv\")"
   ]
  },
  {
   "cell_type": "code",
   "execution_count": 90,
   "id": "a2a42fe4",
   "metadata": {},
   "outputs": [
    {
     "data": {
      "text/html": [
       "<div>\n",
       "<style scoped>\n",
       "    .dataframe tbody tr th:only-of-type {\n",
       "        vertical-align: middle;\n",
       "    }\n",
       "\n",
       "    .dataframe tbody tr th {\n",
       "        vertical-align: top;\n",
       "    }\n",
       "\n",
       "    .dataframe thead th {\n",
       "        text-align: right;\n",
       "    }\n",
       "</style>\n",
       "<table border=\"1\" class=\"dataframe\">\n",
       "  <thead>\n",
       "    <tr style=\"text-align: right;\">\n",
       "      <th></th>\n",
       "      <th>Delivery Time</th>\n",
       "      <th>Sorting Time</th>\n",
       "    </tr>\n",
       "  </thead>\n",
       "  <tbody>\n",
       "    <tr>\n",
       "      <th>0</th>\n",
       "      <td>21.00</td>\n",
       "      <td>10</td>\n",
       "    </tr>\n",
       "    <tr>\n",
       "      <th>1</th>\n",
       "      <td>13.50</td>\n",
       "      <td>4</td>\n",
       "    </tr>\n",
       "    <tr>\n",
       "      <th>2</th>\n",
       "      <td>19.75</td>\n",
       "      <td>6</td>\n",
       "    </tr>\n",
       "    <tr>\n",
       "      <th>3</th>\n",
       "      <td>24.00</td>\n",
       "      <td>9</td>\n",
       "    </tr>\n",
       "    <tr>\n",
       "      <th>4</th>\n",
       "      <td>29.00</td>\n",
       "      <td>10</td>\n",
       "    </tr>\n",
       "    <tr>\n",
       "      <th>5</th>\n",
       "      <td>15.35</td>\n",
       "      <td>6</td>\n",
       "    </tr>\n",
       "    <tr>\n",
       "      <th>6</th>\n",
       "      <td>19.00</td>\n",
       "      <td>7</td>\n",
       "    </tr>\n",
       "    <tr>\n",
       "      <th>7</th>\n",
       "      <td>9.50</td>\n",
       "      <td>3</td>\n",
       "    </tr>\n",
       "    <tr>\n",
       "      <th>8</th>\n",
       "      <td>17.90</td>\n",
       "      <td>10</td>\n",
       "    </tr>\n",
       "    <tr>\n",
       "      <th>9</th>\n",
       "      <td>18.75</td>\n",
       "      <td>9</td>\n",
       "    </tr>\n",
       "    <tr>\n",
       "      <th>10</th>\n",
       "      <td>19.83</td>\n",
       "      <td>8</td>\n",
       "    </tr>\n",
       "    <tr>\n",
       "      <th>11</th>\n",
       "      <td>10.75</td>\n",
       "      <td>4</td>\n",
       "    </tr>\n",
       "    <tr>\n",
       "      <th>12</th>\n",
       "      <td>16.68</td>\n",
       "      <td>7</td>\n",
       "    </tr>\n",
       "    <tr>\n",
       "      <th>13</th>\n",
       "      <td>11.50</td>\n",
       "      <td>3</td>\n",
       "    </tr>\n",
       "    <tr>\n",
       "      <th>14</th>\n",
       "      <td>12.03</td>\n",
       "      <td>3</td>\n",
       "    </tr>\n",
       "    <tr>\n",
       "      <th>15</th>\n",
       "      <td>14.88</td>\n",
       "      <td>4</td>\n",
       "    </tr>\n",
       "    <tr>\n",
       "      <th>16</th>\n",
       "      <td>13.75</td>\n",
       "      <td>6</td>\n",
       "    </tr>\n",
       "    <tr>\n",
       "      <th>17</th>\n",
       "      <td>18.11</td>\n",
       "      <td>7</td>\n",
       "    </tr>\n",
       "    <tr>\n",
       "      <th>18</th>\n",
       "      <td>8.00</td>\n",
       "      <td>2</td>\n",
       "    </tr>\n",
       "    <tr>\n",
       "      <th>19</th>\n",
       "      <td>17.83</td>\n",
       "      <td>7</td>\n",
       "    </tr>\n",
       "    <tr>\n",
       "      <th>20</th>\n",
       "      <td>21.50</td>\n",
       "      <td>5</td>\n",
       "    </tr>\n",
       "  </tbody>\n",
       "</table>\n",
       "</div>"
      ],
      "text/plain": [
       "    Delivery Time  Sorting Time\n",
       "0           21.00            10\n",
       "1           13.50             4\n",
       "2           19.75             6\n",
       "3           24.00             9\n",
       "4           29.00            10\n",
       "5           15.35             6\n",
       "6           19.00             7\n",
       "7            9.50             3\n",
       "8           17.90            10\n",
       "9           18.75             9\n",
       "10          19.83             8\n",
       "11          10.75             4\n",
       "12          16.68             7\n",
       "13          11.50             3\n",
       "14          12.03             3\n",
       "15          14.88             4\n",
       "16          13.75             6\n",
       "17          18.11             7\n",
       "18           8.00             2\n",
       "19          17.83             7\n",
       "20          21.50             5"
      ]
     },
     "execution_count": 90,
     "metadata": {},
     "output_type": "execute_result"
    }
   ],
   "source": [
    "delivery"
   ]
  },
  {
   "cell_type": "markdown",
   "id": "3db1313c",
   "metadata": {},
   "source": [
    "### Checking for missing values"
   ]
  },
  {
   "cell_type": "code",
   "execution_count": 91,
   "id": "d2c5bfdb",
   "metadata": {
    "scrolled": false
   },
   "outputs": [
    {
     "name": "stdout",
     "output_type": "stream",
     "text": [
      "<class 'pandas.core.frame.DataFrame'>\n",
      "RangeIndex: 21 entries, 0 to 20\n",
      "Data columns (total 2 columns):\n",
      " #   Column         Non-Null Count  Dtype  \n",
      "---  ------         --------------  -----  \n",
      " 0   delivery_time  21 non-null     float64\n",
      " 1   sorting_time   21 non-null     int64  \n",
      "dtypes: float64(1), int64(1)\n",
      "memory usage: 464.0 bytes\n"
     ]
    }
   ],
   "source": [
    "delivery.columns=['delivery_time','sorting_time']\n",
    "delivery.info()"
   ]
  },
  {
   "cell_type": "markdown",
   "id": "721155b5",
   "metadata": {},
   "source": [
    "### There are no missing values in the data"
   ]
  },
  {
   "cell_type": "markdown",
   "id": "e4628f26",
   "metadata": {},
   "source": [
    "### Checking for duplicate values"
   ]
  },
  {
   "cell_type": "code",
   "execution_count": 92,
   "id": "c68ddf9c",
   "metadata": {
    "scrolled": true
   },
   "outputs": [
    {
     "data": {
      "text/html": [
       "<div>\n",
       "<style scoped>\n",
       "    .dataframe tbody tr th:only-of-type {\n",
       "        vertical-align: middle;\n",
       "    }\n",
       "\n",
       "    .dataframe tbody tr th {\n",
       "        vertical-align: top;\n",
       "    }\n",
       "\n",
       "    .dataframe thead th {\n",
       "        text-align: right;\n",
       "    }\n",
       "</style>\n",
       "<table border=\"1\" class=\"dataframe\">\n",
       "  <thead>\n",
       "    <tr style=\"text-align: right;\">\n",
       "      <th></th>\n",
       "      <th>delivery_time</th>\n",
       "      <th>sorting_time</th>\n",
       "    </tr>\n",
       "  </thead>\n",
       "  <tbody>\n",
       "  </tbody>\n",
       "</table>\n",
       "</div>"
      ],
      "text/plain": [
       "Empty DataFrame\n",
       "Columns: [delivery_time, sorting_time]\n",
       "Index: []"
      ]
     },
     "execution_count": 92,
     "metadata": {},
     "output_type": "execute_result"
    }
   ],
   "source": [
    "delivery[delivery.duplicated()]"
   ]
  },
  {
   "cell_type": "markdown",
   "id": "ffbdec97",
   "metadata": {},
   "source": [
    "### There are no duplicate valuess"
   ]
  },
  {
   "cell_type": "code",
   "execution_count": 113,
   "id": "1aa1f7aa",
   "metadata": {},
   "outputs": [
    {
     "data": {
      "text/plain": [
       "<AxesSubplot:>"
      ]
     },
     "execution_count": 113,
     "metadata": {},
     "output_type": "execute_result"
    },
    {
     "data": {
      "image/png": "[encoded data removed]",
      "text/plain": [
       "<Figure size 432x288 with 1 Axes>"
      ]
     },
     "metadata": {
      "needs_background": "light"
     },
     "output_type": "display_data"
    }
   ],
   "source": [
    "delivery.sorting_time.plot(kind='box')"
   ]
  },
  {
   "cell_type": "code",
   "execution_count": 114,
   "id": "a97f8c4e",
   "metadata": {
    "scrolled": true
   },
   "outputs": [
    {
     "data": {
      "text/plain": [
       "<AxesSubplot:>"
      ]
     },
     "execution_count": 114,
     "metadata": {},
     "output_type": "execute_result"
    },
    {
     "data": {
      "image/png": "[encoded data removed]",
      "text/plain": [
       "<Figure size 432x288 with 1 Axes>"
      ]
     },
     "metadata": {
      "needs_background": "light"
     },
     "output_type": "display_data"
    }
   ],
   "source": [
    "delivery.delivery_time.plot(kind='box')"
   ]
  },
  {
   "cell_type": "markdown",
   "id": "be38e4fb",
   "metadata": {},
   "source": [
    "### There are no outliers in the data"
   ]
  },
  {
   "cell_type": "code",
   "execution_count": 93,
   "id": "9ec97920",
   "metadata": {},
   "outputs": [
    {
     "data": {
      "text/html": [
       "<div>\n",
       "<style scoped>\n",
       "    .dataframe tbody tr th:only-of-type {\n",
       "        vertical-align: middle;\n",
       "    }\n",
       "\n",
       "    .dataframe tbody tr th {\n",
       "        vertical-align: top;\n",
       "    }\n",
       "\n",
       "    .dataframe thead th {\n",
       "        text-align: right;\n",
       "    }\n",
       "</style>\n",
       "<table border=\"1\" class=\"dataframe\">\n",
       "  <thead>\n",
       "    <tr style=\"text-align: right;\">\n",
       "      <th></th>\n",
       "      <th>delivery_time</th>\n",
       "      <th>sorting_time</th>\n",
       "    </tr>\n",
       "  </thead>\n",
       "  <tbody>\n",
       "    <tr>\n",
       "      <th>delivery_time</th>\n",
       "      <td>1.000000</td>\n",
       "      <td>0.825997</td>\n",
       "    </tr>\n",
       "    <tr>\n",
       "      <th>sorting_time</th>\n",
       "      <td>0.825997</td>\n",
       "      <td>1.000000</td>\n",
       "    </tr>\n",
       "  </tbody>\n",
       "</table>\n",
       "</div>"
      ],
      "text/plain": [
       "               delivery_time  sorting_time\n",
       "delivery_time       1.000000      0.825997\n",
       "sorting_time        0.825997      1.000000"
      ]
     },
     "execution_count": 93,
     "metadata": {},
     "output_type": "execute_result"
    },
    {
     "data": {
      "image/png": "[encoded data removed]",
      "text/plain": [
       "<Figure size 360x360 with 1 Axes>"
      ]
     },
     "metadata": {
      "needs_background": "light"
     },
     "output_type": "display_data"
    }
   ],
   "source": [
    "plt.figure(figsize = (5,5))\n",
    "sns.scatterplot(delivery['sorting_time'],delivery['delivery_time'],palette = 'Set1')\n",
    "delivery.corr()"
   ]
  },
  {
   "cell_type": "markdown",
   "id": "f4bceeef",
   "metadata": {},
   "source": [
    "### Correlation between delivery_time and sorting_time seems low"
   ]
  },
  {
   "cell_type": "code",
   "execution_count": 94,
   "id": "54f9bba4",
   "metadata": {},
   "outputs": [
    {
     "data": {
      "text/plain": [
       "<AxesSubplot:xlabel='delivery_time', ylabel='Density'>"
      ]
     },
     "execution_count": 94,
     "metadata": {},
     "output_type": "execute_result"
    },
    {
     "data": {
      "image/png": "[encoded data removed]",
      "text/plain": [
       "<Figure size 432x288 with 1 Axes>"
      ]
     },
     "metadata": {
      "needs_background": "light"
     },
     "output_type": "display_data"
    }
   ],
   "source": [
    "sns.distplot(delivery['delivery_time'])"
   ]
  },
  {
   "cell_type": "markdown",
   "id": "ac2bd9ad",
   "metadata": {},
   "source": [
    "### Applying transformations to see if they result in a higher correlation"
   ]
  },
  {
   "cell_type": "code",
   "execution_count": 95,
   "id": "b1bb243e",
   "metadata": {},
   "outputs": [],
   "source": [
    "delivery['st_sq']=delivery.sorting_time**2\n",
    "delivery['st_sqrt']=delivery.sorting_time**0.5\n",
    "delivery['st_log']=np.log(delivery.sorting_time)\n",
    "delivery['st_sqrt4']=delivery.sorting_time**0.4"
   ]
  },
  {
   "cell_type": "code",
   "execution_count": 96,
   "id": "25de9817",
   "metadata": {},
   "outputs": [
    {
     "data": {
      "text/html": [
       "<div>\n",
       "<style scoped>\n",
       "    .dataframe tbody tr th:only-of-type {\n",
       "        vertical-align: middle;\n",
       "    }\n",
       "\n",
       "    .dataframe tbody tr th {\n",
       "        vertical-align: top;\n",
       "    }\n",
       "\n",
       "    .dataframe thead th {\n",
       "        text-align: right;\n",
       "    }\n",
       "</style>\n",
       "<table border=\"1\" class=\"dataframe\">\n",
       "  <thead>\n",
       "    <tr style=\"text-align: right;\">\n",
       "      <th></th>\n",
       "      <th>delivery_time</th>\n",
       "      <th>sorting_time</th>\n",
       "      <th>st_sq</th>\n",
       "      <th>st_sqrt</th>\n",
       "      <th>st_log</th>\n",
       "      <th>st_sqrt4</th>\n",
       "    </tr>\n",
       "  </thead>\n",
       "  <tbody>\n",
       "    <tr>\n",
       "      <th>delivery_time</th>\n",
       "      <td>1.000000</td>\n",
       "      <td>0.825997</td>\n",
       "      <td>0.793906</td>\n",
       "      <td>0.834150</td>\n",
       "      <td>0.833933</td>\n",
       "      <td>0.834847</td>\n",
       "    </tr>\n",
       "    <tr>\n",
       "      <th>sorting_time</th>\n",
       "      <td>0.825997</td>\n",
       "      <td>1.000000</td>\n",
       "      <td>0.983967</td>\n",
       "      <td>0.994704</td>\n",
       "      <td>0.977447</td>\n",
       "      <td>0.992266</td>\n",
       "    </tr>\n",
       "    <tr>\n",
       "      <th>st_sq</th>\n",
       "      <td>0.793906</td>\n",
       "      <td>0.983967</td>\n",
       "      <td>1.000000</td>\n",
       "      <td>0.960816</td>\n",
       "      <td>0.925659</td>\n",
       "      <td>0.954766</td>\n",
       "    </tr>\n",
       "    <tr>\n",
       "      <th>st_sqrt</th>\n",
       "      <td>0.834150</td>\n",
       "      <td>0.994704</td>\n",
       "      <td>0.960816</td>\n",
       "      <td>1.000000</td>\n",
       "      <td>0.993904</td>\n",
       "      <td>0.999768</td>\n",
       "    </tr>\n",
       "    <tr>\n",
       "      <th>st_log</th>\n",
       "      <td>0.833933</td>\n",
       "      <td>0.977447</td>\n",
       "      <td>0.925659</td>\n",
       "      <td>0.993904</td>\n",
       "      <td>1.000000</td>\n",
       "      <td>0.996045</td>\n",
       "    </tr>\n",
       "    <tr>\n",
       "      <th>st_sqrt4</th>\n",
       "      <td>0.834847</td>\n",
       "      <td>0.992266</td>\n",
       "      <td>0.954766</td>\n",
       "      <td>0.999768</td>\n",
       "      <td>0.996045</td>\n",
       "      <td>1.000000</td>\n",
       "    </tr>\n",
       "  </tbody>\n",
       "</table>\n",
       "</div>"
      ],
      "text/plain": [
       "               delivery_time  sorting_time     st_sq   st_sqrt    st_log  \\\n",
       "delivery_time       1.000000      0.825997  0.793906  0.834150  0.833933   \n",
       "sorting_time        0.825997      1.000000  0.983967  0.994704  0.977447   \n",
       "st_sq               0.793906      0.983967  1.000000  0.960816  0.925659   \n",
       "st_sqrt             0.834150      0.994704  0.960816  1.000000  0.993904   \n",
       "st_log              0.833933      0.977447  0.925659  0.993904  1.000000   \n",
       "st_sqrt4            0.834847      0.992266  0.954766  0.999768  0.996045   \n",
       "\n",
       "               st_sqrt4  \n",
       "delivery_time  0.834847  \n",
       "sorting_time   0.992266  \n",
       "st_sq          0.954766  \n",
       "st_sqrt        0.999768  \n",
       "st_log         0.996045  \n",
       "st_sqrt4       1.000000  "
      ]
     },
     "execution_count": 96,
     "metadata": {},
     "output_type": "execute_result"
    },
    {
     "data": {
      "image/png": "[encoded data removed]",
      "text/plain": [
       "<Figure size 1080x1080 with 42 Axes>"
      ]
     },
     "metadata": {
      "needs_background": "light"
     },
     "output_type": "display_data"
    }
   ],
   "source": [
    "\n",
    "sns.pairplot(delivery)\n",
    "delivery.corr()"
   ]
  },
  {
   "cell_type": "markdown",
   "id": "39efc001",
   "metadata": {},
   "source": [
    "### the trasformation of raised to the power of 0.4 has mariginally higher correlation than the untransformed data and also other transformations"
   ]
  },
  {
   "cell_type": "code",
   "execution_count": 97,
   "id": "25e1e4e7",
   "metadata": {},
   "outputs": [
    {
     "data": {
      "text/html": [
       "<div>\n",
       "<style scoped>\n",
       "    .dataframe tbody tr th:only-of-type {\n",
       "        vertical-align: middle;\n",
       "    }\n",
       "\n",
       "    .dataframe tbody tr th {\n",
       "        vertical-align: top;\n",
       "    }\n",
       "\n",
       "    .dataframe thead th {\n",
       "        text-align: right;\n",
       "    }\n",
       "</style>\n",
       "<table border=\"1\" class=\"dataframe\">\n",
       "  <thead>\n",
       "    <tr style=\"text-align: right;\">\n",
       "      <th></th>\n",
       "      <th>delivery_time</th>\n",
       "      <th>sorting_time</th>\n",
       "      <th>st_sq</th>\n",
       "      <th>st_sqrt</th>\n",
       "      <th>st_log</th>\n",
       "      <th>st_sqrt4</th>\n",
       "    </tr>\n",
       "  </thead>\n",
       "  <tbody>\n",
       "    <tr>\n",
       "      <th>0</th>\n",
       "      <td>21.00</td>\n",
       "      <td>10</td>\n",
       "      <td>100</td>\n",
       "      <td>3.162278</td>\n",
       "      <td>2.302585</td>\n",
       "      <td>2.511886</td>\n",
       "    </tr>\n",
       "    <tr>\n",
       "      <th>1</th>\n",
       "      <td>13.50</td>\n",
       "      <td>4</td>\n",
       "      <td>16</td>\n",
       "      <td>2.000000</td>\n",
       "      <td>1.386294</td>\n",
       "      <td>1.741101</td>\n",
       "    </tr>\n",
       "    <tr>\n",
       "      <th>2</th>\n",
       "      <td>19.75</td>\n",
       "      <td>6</td>\n",
       "      <td>36</td>\n",
       "      <td>2.449490</td>\n",
       "      <td>1.791759</td>\n",
       "      <td>2.047673</td>\n",
       "    </tr>\n",
       "    <tr>\n",
       "      <th>3</th>\n",
       "      <td>24.00</td>\n",
       "      <td>9</td>\n",
       "      <td>81</td>\n",
       "      <td>3.000000</td>\n",
       "      <td>2.197225</td>\n",
       "      <td>2.408225</td>\n",
       "    </tr>\n",
       "    <tr>\n",
       "      <th>4</th>\n",
       "      <td>29.00</td>\n",
       "      <td>10</td>\n",
       "      <td>100</td>\n",
       "      <td>3.162278</td>\n",
       "      <td>2.302585</td>\n",
       "      <td>2.511886</td>\n",
       "    </tr>\n",
       "    <tr>\n",
       "      <th>5</th>\n",
       "      <td>15.35</td>\n",
       "      <td>6</td>\n",
       "      <td>36</td>\n",
       "      <td>2.449490</td>\n",
       "      <td>1.791759</td>\n",
       "      <td>2.047673</td>\n",
       "    </tr>\n",
       "    <tr>\n",
       "      <th>6</th>\n",
       "      <td>19.00</td>\n",
       "      <td>7</td>\n",
       "      <td>49</td>\n",
       "      <td>2.645751</td>\n",
       "      <td>1.945910</td>\n",
       "      <td>2.177906</td>\n",
       "    </tr>\n",
       "    <tr>\n",
       "      <th>7</th>\n",
       "      <td>9.50</td>\n",
       "      <td>3</td>\n",
       "      <td>9</td>\n",
       "      <td>1.732051</td>\n",
       "      <td>1.098612</td>\n",
       "      <td>1.551846</td>\n",
       "    </tr>\n",
       "    <tr>\n",
       "      <th>8</th>\n",
       "      <td>17.90</td>\n",
       "      <td>10</td>\n",
       "      <td>100</td>\n",
       "      <td>3.162278</td>\n",
       "      <td>2.302585</td>\n",
       "      <td>2.511886</td>\n",
       "    </tr>\n",
       "    <tr>\n",
       "      <th>9</th>\n",
       "      <td>18.75</td>\n",
       "      <td>9</td>\n",
       "      <td>81</td>\n",
       "      <td>3.000000</td>\n",
       "      <td>2.197225</td>\n",
       "      <td>2.408225</td>\n",
       "    </tr>\n",
       "    <tr>\n",
       "      <th>10</th>\n",
       "      <td>19.83</td>\n",
       "      <td>8</td>\n",
       "      <td>64</td>\n",
       "      <td>2.828427</td>\n",
       "      <td>2.079442</td>\n",
       "      <td>2.297397</td>\n",
       "    </tr>\n",
       "    <tr>\n",
       "      <th>11</th>\n",
       "      <td>10.75</td>\n",
       "      <td>4</td>\n",
       "      <td>16</td>\n",
       "      <td>2.000000</td>\n",
       "      <td>1.386294</td>\n",
       "      <td>1.741101</td>\n",
       "    </tr>\n",
       "    <tr>\n",
       "      <th>12</th>\n",
       "      <td>16.68</td>\n",
       "      <td>7</td>\n",
       "      <td>49</td>\n",
       "      <td>2.645751</td>\n",
       "      <td>1.945910</td>\n",
       "      <td>2.177906</td>\n",
       "    </tr>\n",
       "    <tr>\n",
       "      <th>13</th>\n",
       "      <td>11.50</td>\n",
       "      <td>3</td>\n",
       "      <td>9</td>\n",
       "      <td>1.732051</td>\n",
       "      <td>1.098612</td>\n",
       "      <td>1.551846</td>\n",
       "    </tr>\n",
       "    <tr>\n",
       "      <th>14</th>\n",
       "      <td>12.03</td>\n",
       "      <td>3</td>\n",
       "      <td>9</td>\n",
       "      <td>1.732051</td>\n",
       "      <td>1.098612</td>\n",
       "      <td>1.551846</td>\n",
       "    </tr>\n",
       "    <tr>\n",
       "      <th>15</th>\n",
       "      <td>14.88</td>\n",
       "      <td>4</td>\n",
       "      <td>16</td>\n",
       "      <td>2.000000</td>\n",
       "      <td>1.386294</td>\n",
       "      <td>1.741101</td>\n",
       "    </tr>\n",
       "    <tr>\n",
       "      <th>16</th>\n",
       "      <td>13.75</td>\n",
       "      <td>6</td>\n",
       "      <td>36</td>\n",
       "      <td>2.449490</td>\n",
       "      <td>1.791759</td>\n",
       "      <td>2.047673</td>\n",
       "    </tr>\n",
       "    <tr>\n",
       "      <th>17</th>\n",
       "      <td>18.11</td>\n",
       "      <td>7</td>\n",
       "      <td>49</td>\n",
       "      <td>2.645751</td>\n",
       "      <td>1.945910</td>\n",
       "      <td>2.177906</td>\n",
       "    </tr>\n",
       "    <tr>\n",
       "      <th>18</th>\n",
       "      <td>8.00</td>\n",
       "      <td>2</td>\n",
       "      <td>4</td>\n",
       "      <td>1.414214</td>\n",
       "      <td>0.693147</td>\n",
       "      <td>1.319508</td>\n",
       "    </tr>\n",
       "    <tr>\n",
       "      <th>19</th>\n",
       "      <td>17.83</td>\n",
       "      <td>7</td>\n",
       "      <td>49</td>\n",
       "      <td>2.645751</td>\n",
       "      <td>1.945910</td>\n",
       "      <td>2.177906</td>\n",
       "    </tr>\n",
       "    <tr>\n",
       "      <th>20</th>\n",
       "      <td>21.50</td>\n",
       "      <td>5</td>\n",
       "      <td>25</td>\n",
       "      <td>2.236068</td>\n",
       "      <td>1.609438</td>\n",
       "      <td>1.903654</td>\n",
       "    </tr>\n",
       "  </tbody>\n",
       "</table>\n",
       "</div>"
      ],
      "text/plain": [
       "    delivery_time  sorting_time  st_sq   st_sqrt    st_log  st_sqrt4\n",
       "0           21.00            10    100  3.162278  2.302585  2.511886\n",
       "1           13.50             4     16  2.000000  1.386294  1.741101\n",
       "2           19.75             6     36  2.449490  1.791759  2.047673\n",
       "3           24.00             9     81  3.000000  2.197225  2.408225\n",
       "4           29.00            10    100  3.162278  2.302585  2.511886\n",
       "5           15.35             6     36  2.449490  1.791759  2.047673\n",
       "6           19.00             7     49  2.645751  1.945910  2.177906\n",
       "7            9.50             3      9  1.732051  1.098612  1.551846\n",
       "8           17.90            10    100  3.162278  2.302585  2.511886\n",
       "9           18.75             9     81  3.000000  2.197225  2.408225\n",
       "10          19.83             8     64  2.828427  2.079442  2.297397\n",
       "11          10.75             4     16  2.000000  1.386294  1.741101\n",
       "12          16.68             7     49  2.645751  1.945910  2.177906\n",
       "13          11.50             3      9  1.732051  1.098612  1.551846\n",
       "14          12.03             3      9  1.732051  1.098612  1.551846\n",
       "15          14.88             4     16  2.000000  1.386294  1.741101\n",
       "16          13.75             6     36  2.449490  1.791759  2.047673\n",
       "17          18.11             7     49  2.645751  1.945910  2.177906\n",
       "18           8.00             2      4  1.414214  0.693147  1.319508\n",
       "19          17.83             7     49  2.645751  1.945910  2.177906\n",
       "20          21.50             5     25  2.236068  1.609438  1.903654"
      ]
     },
     "execution_count": 97,
     "metadata": {},
     "output_type": "execute_result"
    }
   ],
   "source": [
    "delivery"
   ]
  },
  {
   "cell_type": "code",
   "execution_count": 98,
   "id": "ce5fa299",
   "metadata": {},
   "outputs": [
    {
     "data": {
      "text/plain": [
       "<AxesSubplot:xlabel='st_sqrt4', ylabel='Density'>"
      ]
     },
     "execution_count": 98,
     "metadata": {},
     "output_type": "execute_result"
    },
    {
     "data": {
      "image/png": "[encoded data removed]",
      "text/plain": [
       "<Figure size 432x288 with 6 Axes>"
      ]
     },
     "metadata": {
      "needs_background": "light"
     },
     "output_type": "display_data"
    }
   ],
   "source": [
    "fig, axs=plt.subplots(2,3)\n",
    "sns.distplot(delivery['sorting_time'],ax=axs[0,0])\n",
    "sns.distplot(delivery['st_sq'],ax=axs[0,1])\n",
    "sns.distplot(delivery['st_sqrt'],ax=axs[0,2])\n",
    "sns.distplot(delivery['st_log'],ax=axs[1,0])\n",
    "sns.distplot(delivery['st_sqrt4'],ax=axs[1,1])\n"
   ]
  },
  {
   "cell_type": "markdown",
   "id": "5ea0d0d2",
   "metadata": {},
   "source": [
    "### model for each transformation since correlation was similar"
   ]
  },
  {
   "cell_type": "code",
   "execution_count": 99,
   "id": "a081b3ed",
   "metadata": {},
   "outputs": [],
   "source": [
    "model=smf.ols(\"delivery_time~sorting_time\",data=delivery).fit()\n",
    "model_sq=smf.ols(\"delivery_time~st_sq\",data=delivery).fit()\n",
    "model_sqrt=smf.ols(\"delivery_time~st_sqrt\",data=delivery).fit()\n",
    "model_log=smf.ols(\"delivery_time~st_log\",data=delivery).fit()\n",
    "model_sqrt4=smf.ols(\"delivery_time~st_sqrt4\",data=delivery).fit()"
   ]
  },
  {
   "cell_type": "code",
   "execution_count": 100,
   "id": "4dca463c",
   "metadata": {},
   "outputs": [
    {
     "name": "stdout",
     "output_type": "stream",
     "text": [
      "rsquared values:\n",
      "untransformed:0.6822714748417231  square:0.6302871815826637  square root:0.6958062276308671  log:0.6954434611324223  raised to 0.4:0.6969691412160729\n"
     ]
    }
   ],
   "source": [
    "print('rsquared values:',end='\\n')\n",
    "print('untransformed:{}  square:{}  square root:{}  log:{}  raised to 0.4:{}'.format(model.rsquared,model_sq.rsquared,model_sqrt.rsquared,model_log.rsquared,model_sqrt4.rsquared))"
   ]
  },
  {
   "cell_type": "markdown",
   "id": "939c4d93",
   "metadata": {},
   "source": [
    "### model_sqrt4 has the best accuracy"
   ]
  },
  {
   "cell_type": "code",
   "execution_count": 101,
   "id": "0c3e2c27",
   "metadata": {},
   "outputs": [
    {
     "data": {
      "text/plain": [
       "Intercept    -7.050883\n",
       "st_sqrt4     11.751321\n",
       "dtype: float64"
      ]
     },
     "execution_count": 101,
     "metadata": {},
     "output_type": "execute_result"
    }
   ],
   "source": [
    "model_sqrt4.params"
   ]
  },
  {
   "cell_type": "code",
   "execution_count": 102,
   "id": "68fea43a",
   "metadata": {},
   "outputs": [
    {
     "name": "stdout",
     "output_type": "stream",
     "text": [
      "Intercept   -1.926237\n",
      "st_sqrt4     6.610589\n",
      "dtype: float64\n",
      "Intercept    0.069169\n",
      "st_sqrt4     0.000003\n",
      "dtype: float64\n"
     ]
    }
   ],
   "source": [
    "print(model_sqrt4.tvalues,model_sqrt4.pvalues,sep='\\n')"
   ]
  },
  {
   "cell_type": "code",
   "execution_count": 103,
   "id": "a631c90f",
   "metadata": {},
   "outputs": [
    {
     "data": {
      "text/plain": [
       "0    -1.467100\n",
       "1     0.090645\n",
       "2     2.738026\n",
       "3     2.751062\n",
       "4     6.532900\n",
       "5    -1.661974\n",
       "6     0.457606\n",
       "7    -1.685352\n",
       "8    -4.567100\n",
       "9    -2.498938\n",
       "10   -0.116563\n",
       "11   -2.659355\n",
       "12   -1.862394\n",
       "13    0.314648\n",
       "14    0.844648\n",
       "15    1.470645\n",
       "16   -3.261974\n",
       "17   -0.432394\n",
       "18   -0.455078\n",
       "19   -0.712394\n",
       "20    6.180435\n",
       "dtype: float64"
      ]
     },
     "execution_count": 103,
     "metadata": {},
     "output_type": "execute_result"
    }
   ],
   "source": [
    "model_sqrt4.resid"
   ]
  },
  {
   "cell_type": "code",
   "execution_count": 104,
   "id": "b323f82a",
   "metadata": {},
   "outputs": [
    {
     "data": {
      "text/plain": [
       "0.6969691412160729"
      ]
     },
     "execution_count": 104,
     "metadata": {},
     "output_type": "execute_result"
    }
   ],
   "source": [
    "model_sqrt4.rsquared"
   ]
  },
  {
   "cell_type": "markdown",
   "id": "3a96a543",
   "metadata": {},
   "source": [
    "### Even with this transformation was only able to achieve an rsquare value of 69% which is marginally better than other transformations"
   ]
  },
  {
   "cell_type": "code",
   "execution_count": 105,
   "id": "3be0b168",
   "metadata": {},
   "outputs": [],
   "source": [
    "delivery['predicted']=model_sqrt4.fittedvalues"
   ]
  },
  {
   "cell_type": "code",
   "execution_count": 106,
   "id": "626577d5",
   "metadata": {},
   "outputs": [
    {
     "data": {
      "text/html": [
       "<div>\n",
       "<style scoped>\n",
       "    .dataframe tbody tr th:only-of-type {\n",
       "        vertical-align: middle;\n",
       "    }\n",
       "\n",
       "    .dataframe tbody tr th {\n",
       "        vertical-align: top;\n",
       "    }\n",
       "\n",
       "    .dataframe thead th {\n",
       "        text-align: right;\n",
       "    }\n",
       "</style>\n",
       "<table border=\"1\" class=\"dataframe\">\n",
       "  <thead>\n",
       "    <tr style=\"text-align: right;\">\n",
       "      <th></th>\n",
       "      <th>delivery_time</th>\n",
       "      <th>sorting_time</th>\n",
       "      <th>st_sq</th>\n",
       "      <th>st_sqrt</th>\n",
       "      <th>st_log</th>\n",
       "      <th>st_sqrt4</th>\n",
       "      <th>predicted</th>\n",
       "    </tr>\n",
       "  </thead>\n",
       "  <tbody>\n",
       "    <tr>\n",
       "      <th>0</th>\n",
       "      <td>21.00</td>\n",
       "      <td>10</td>\n",
       "      <td>100</td>\n",
       "      <td>3.162278</td>\n",
       "      <td>2.302585</td>\n",
       "      <td>2.511886</td>\n",
       "      <td>22.467100</td>\n",
       "    </tr>\n",
       "    <tr>\n",
       "      <th>1</th>\n",
       "      <td>13.50</td>\n",
       "      <td>4</td>\n",
       "      <td>16</td>\n",
       "      <td>2.000000</td>\n",
       "      <td>1.386294</td>\n",
       "      <td>1.741101</td>\n",
       "      <td>13.409355</td>\n",
       "    </tr>\n",
       "    <tr>\n",
       "      <th>2</th>\n",
       "      <td>19.75</td>\n",
       "      <td>6</td>\n",
       "      <td>36</td>\n",
       "      <td>2.449490</td>\n",
       "      <td>1.791759</td>\n",
       "      <td>2.047673</td>\n",
       "      <td>17.011974</td>\n",
       "    </tr>\n",
       "    <tr>\n",
       "      <th>3</th>\n",
       "      <td>24.00</td>\n",
       "      <td>9</td>\n",
       "      <td>81</td>\n",
       "      <td>3.000000</td>\n",
       "      <td>2.197225</td>\n",
       "      <td>2.408225</td>\n",
       "      <td>21.248938</td>\n",
       "    </tr>\n",
       "    <tr>\n",
       "      <th>4</th>\n",
       "      <td>29.00</td>\n",
       "      <td>10</td>\n",
       "      <td>100</td>\n",
       "      <td>3.162278</td>\n",
       "      <td>2.302585</td>\n",
       "      <td>2.511886</td>\n",
       "      <td>22.467100</td>\n",
       "    </tr>\n",
       "    <tr>\n",
       "      <th>5</th>\n",
       "      <td>15.35</td>\n",
       "      <td>6</td>\n",
       "      <td>36</td>\n",
       "      <td>2.449490</td>\n",
       "      <td>1.791759</td>\n",
       "      <td>2.047673</td>\n",
       "      <td>17.011974</td>\n",
       "    </tr>\n",
       "    <tr>\n",
       "      <th>6</th>\n",
       "      <td>19.00</td>\n",
       "      <td>7</td>\n",
       "      <td>49</td>\n",
       "      <td>2.645751</td>\n",
       "      <td>1.945910</td>\n",
       "      <td>2.177906</td>\n",
       "      <td>18.542394</td>\n",
       "    </tr>\n",
       "    <tr>\n",
       "      <th>7</th>\n",
       "      <td>9.50</td>\n",
       "      <td>3</td>\n",
       "      <td>9</td>\n",
       "      <td>1.732051</td>\n",
       "      <td>1.098612</td>\n",
       "      <td>1.551846</td>\n",
       "      <td>11.185352</td>\n",
       "    </tr>\n",
       "    <tr>\n",
       "      <th>8</th>\n",
       "      <td>17.90</td>\n",
       "      <td>10</td>\n",
       "      <td>100</td>\n",
       "      <td>3.162278</td>\n",
       "      <td>2.302585</td>\n",
       "      <td>2.511886</td>\n",
       "      <td>22.467100</td>\n",
       "    </tr>\n",
       "    <tr>\n",
       "      <th>9</th>\n",
       "      <td>18.75</td>\n",
       "      <td>9</td>\n",
       "      <td>81</td>\n",
       "      <td>3.000000</td>\n",
       "      <td>2.197225</td>\n",
       "      <td>2.408225</td>\n",
       "      <td>21.248938</td>\n",
       "    </tr>\n",
       "    <tr>\n",
       "      <th>10</th>\n",
       "      <td>19.83</td>\n",
       "      <td>8</td>\n",
       "      <td>64</td>\n",
       "      <td>2.828427</td>\n",
       "      <td>2.079442</td>\n",
       "      <td>2.297397</td>\n",
       "      <td>19.946563</td>\n",
       "    </tr>\n",
       "    <tr>\n",
       "      <th>11</th>\n",
       "      <td>10.75</td>\n",
       "      <td>4</td>\n",
       "      <td>16</td>\n",
       "      <td>2.000000</td>\n",
       "      <td>1.386294</td>\n",
       "      <td>1.741101</td>\n",
       "      <td>13.409355</td>\n",
       "    </tr>\n",
       "    <tr>\n",
       "      <th>12</th>\n",
       "      <td>16.68</td>\n",
       "      <td>7</td>\n",
       "      <td>49</td>\n",
       "      <td>2.645751</td>\n",
       "      <td>1.945910</td>\n",
       "      <td>2.177906</td>\n",
       "      <td>18.542394</td>\n",
       "    </tr>\n",
       "    <tr>\n",
       "      <th>13</th>\n",
       "      <td>11.50</td>\n",
       "      <td>3</td>\n",
       "      <td>9</td>\n",
       "      <td>1.732051</td>\n",
       "      <td>1.098612</td>\n",
       "      <td>1.551846</td>\n",
       "      <td>11.185352</td>\n",
       "    </tr>\n",
       "    <tr>\n",
       "      <th>14</th>\n",
       "      <td>12.03</td>\n",
       "      <td>3</td>\n",
       "      <td>9</td>\n",
       "      <td>1.732051</td>\n",
       "      <td>1.098612</td>\n",
       "      <td>1.551846</td>\n",
       "      <td>11.185352</td>\n",
       "    </tr>\n",
       "    <tr>\n",
       "      <th>15</th>\n",
       "      <td>14.88</td>\n",
       "      <td>4</td>\n",
       "      <td>16</td>\n",
       "      <td>2.000000</td>\n",
       "      <td>1.386294</td>\n",
       "      <td>1.741101</td>\n",
       "      <td>13.409355</td>\n",
       "    </tr>\n",
       "    <tr>\n",
       "      <th>16</th>\n",
       "      <td>13.75</td>\n",
       "      <td>6</td>\n",
       "      <td>36</td>\n",
       "      <td>2.449490</td>\n",
       "      <td>1.791759</td>\n",
       "      <td>2.047673</td>\n",
       "      <td>17.011974</td>\n",
       "    </tr>\n",
       "    <tr>\n",
       "      <th>17</th>\n",
       "      <td>18.11</td>\n",
       "      <td>7</td>\n",
       "      <td>49</td>\n",
       "      <td>2.645751</td>\n",
       "      <td>1.945910</td>\n",
       "      <td>2.177906</td>\n",
       "      <td>18.542394</td>\n",
       "    </tr>\n",
       "    <tr>\n",
       "      <th>18</th>\n",
       "      <td>8.00</td>\n",
       "      <td>2</td>\n",
       "      <td>4</td>\n",
       "      <td>1.414214</td>\n",
       "      <td>0.693147</td>\n",
       "      <td>1.319508</td>\n",
       "      <td>8.455078</td>\n",
       "    </tr>\n",
       "    <tr>\n",
       "      <th>19</th>\n",
       "      <td>17.83</td>\n",
       "      <td>7</td>\n",
       "      <td>49</td>\n",
       "      <td>2.645751</td>\n",
       "      <td>1.945910</td>\n",
       "      <td>2.177906</td>\n",
       "      <td>18.542394</td>\n",
       "    </tr>\n",
       "    <tr>\n",
       "      <th>20</th>\n",
       "      <td>21.50</td>\n",
       "      <td>5</td>\n",
       "      <td>25</td>\n",
       "      <td>2.236068</td>\n",
       "      <td>1.609438</td>\n",
       "      <td>1.903654</td>\n",
       "      <td>15.319565</td>\n",
       "    </tr>\n",
       "  </tbody>\n",
       "</table>\n",
       "</div>"
      ],
      "text/plain": [
       "    delivery_time  sorting_time  st_sq   st_sqrt    st_log  st_sqrt4  \\\n",
       "0           21.00            10    100  3.162278  2.302585  2.511886   \n",
       "1           13.50             4     16  2.000000  1.386294  1.741101   \n",
       "2           19.75             6     36  2.449490  1.791759  2.047673   \n",
       "3           24.00             9     81  3.000000  2.197225  2.408225   \n",
       "4           29.00            10    100  3.162278  2.302585  2.511886   \n",
       "5           15.35             6     36  2.449490  1.791759  2.047673   \n",
       "6           19.00             7     49  2.645751  1.945910  2.177906   \n",
       "7            9.50             3      9  1.732051  1.098612  1.551846   \n",
       "8           17.90            10    100  3.162278  2.302585  2.511886   \n",
       "9           18.75             9     81  3.000000  2.197225  2.408225   \n",
       "10          19.83             8     64  2.828427  2.079442  2.297397   \n",
       "11          10.75             4     16  2.000000  1.386294  1.741101   \n",
       "12          16.68             7     49  2.645751  1.945910  2.177906   \n",
       "13          11.50             3      9  1.732051  1.098612  1.551846   \n",
       "14          12.03             3      9  1.732051  1.098612  1.551846   \n",
       "15          14.88             4     16  2.000000  1.386294  1.741101   \n",
       "16          13.75             6     36  2.449490  1.791759  2.047673   \n",
       "17          18.11             7     49  2.645751  1.945910  2.177906   \n",
       "18           8.00             2      4  1.414214  0.693147  1.319508   \n",
       "19          17.83             7     49  2.645751  1.945910  2.177906   \n",
       "20          21.50             5     25  2.236068  1.609438  1.903654   \n",
       "\n",
       "    predicted  \n",
       "0   22.467100  \n",
       "1   13.409355  \n",
       "2   17.011974  \n",
       "3   21.248938  \n",
       "4   22.467100  \n",
       "5   17.011974  \n",
       "6   18.542394  \n",
       "7   11.185352  \n",
       "8   22.467100  \n",
       "9   21.248938  \n",
       "10  19.946563  \n",
       "11  13.409355  \n",
       "12  18.542394  \n",
       "13  11.185352  \n",
       "14  11.185352  \n",
       "15  13.409355  \n",
       "16  17.011974  \n",
       "17  18.542394  \n",
       "18   8.455078  \n",
       "19  18.542394  \n",
       "20  15.319565  "
      ]
     },
     "execution_count": 106,
     "metadata": {},
     "output_type": "execute_result"
    }
   ],
   "source": [
    "delivery"
   ]
  },
  {
   "cell_type": "markdown",
   "id": "4abd9213",
   "metadata": {},
   "source": [
    "### Predicting for new values"
   ]
  },
  {
   "cell_type": "code",
   "execution_count": 110,
   "id": "a09cc3c4",
   "metadata": {},
   "outputs": [
    {
     "data": {
      "text/html": [
       "<div>\n",
       "<style scoped>\n",
       "    .dataframe tbody tr th:only-of-type {\n",
       "        vertical-align: middle;\n",
       "    }\n",
       "\n",
       "    .dataframe tbody tr th {\n",
       "        vertical-align: top;\n",
       "    }\n",
       "\n",
       "    .dataframe thead th {\n",
       "        text-align: right;\n",
       "    }\n",
       "</style>\n",
       "<table border=\"1\" class=\"dataframe\">\n",
       "  <thead>\n",
       "    <tr style=\"text-align: right;\">\n",
       "      <th></th>\n",
       "      <th>sorting_time</th>\n",
       "      <th>st_sqrt4</th>\n",
       "    </tr>\n",
       "  </thead>\n",
       "  <tbody>\n",
       "    <tr>\n",
       "      <th>0</th>\n",
       "      <td>7.0</td>\n",
       "      <td>2.177906</td>\n",
       "    </tr>\n",
       "    <tr>\n",
       "      <th>1</th>\n",
       "      <td>6.5</td>\n",
       "      <td>2.114294</td>\n",
       "    </tr>\n",
       "  </tbody>\n",
       "</table>\n",
       "</div>"
      ],
      "text/plain": [
       "   sorting_time  st_sqrt4\n",
       "0           7.0  2.177906\n",
       "1           6.5  2.114294"
      ]
     },
     "execution_count": 110,
     "metadata": {},
     "output_type": "execute_result"
    }
   ],
   "source": [
    "new=pd.DataFrame({\"sorting_time\":[7,6.5]})\n",
    "new['st_sqrt4']=new.sorting_time**0.4\n",
    "new"
   ]
  },
  {
   "cell_type": "code",
   "execution_count": 111,
   "id": "220eae84",
   "metadata": {},
   "outputs": [],
   "source": [
    "new['predicted']=model_sqrt4.predict(new)"
   ]
  },
  {
   "cell_type": "code",
   "execution_count": 112,
   "id": "8e9ce249",
   "metadata": {},
   "outputs": [
    {
     "data": {
      "text/html": [
       "<div>\n",
       "<style scoped>\n",
       "    .dataframe tbody tr th:only-of-type {\n",
       "        vertical-align: middle;\n",
       "    }\n",
       "\n",
       "    .dataframe tbody tr th {\n",
       "        vertical-align: top;\n",
       "    }\n",
       "\n",
       "    .dataframe thead th {\n",
       "        text-align: right;\n",
       "    }\n",
       "</style>\n",
       "<table border=\"1\" class=\"dataframe\">\n",
       "  <thead>\n",
       "    <tr style=\"text-align: right;\">\n",
       "      <th></th>\n",
       "      <th>sorting_time</th>\n",
       "      <th>st_sqrt4</th>\n",
       "      <th>predicted</th>\n",
       "    </tr>\n",
       "  </thead>\n",
       "  <tbody>\n",
       "    <tr>\n",
       "      <th>0</th>\n",
       "      <td>7.0</td>\n",
       "      <td>2.177906</td>\n",
       "      <td>18.542394</td>\n",
       "    </tr>\n",
       "    <tr>\n",
       "      <th>1</th>\n",
       "      <td>6.5</td>\n",
       "      <td>2.114294</td>\n",
       "      <td>17.794862</td>\n",
       "    </tr>\n",
       "  </tbody>\n",
       "</table>\n",
       "</div>"
      ],
      "text/plain": [
       "   sorting_time  st_sqrt4  predicted\n",
       "0           7.0  2.177906  18.542394\n",
       "1           6.5  2.114294  17.794862"
      ]
     },
     "execution_count": 112,
     "metadata": {},
     "output_type": "execute_result"
    }
   ],
   "source": [
    "new"
   ]
  },
  {
   "cell_type": "code",
   "execution_count": null,
   "id": "a7efcbe0",
   "metadata": {},
   "outputs": [],
   "source": []
  }
 ],
 "metadata": {
  "kernelspec": {
   "display_name": "Python 3 (ipykernel)",
   "language": "python",
   "name": "python3"
  },
  "language_info": {
   "codemirror_mode": {
    "name": "ipython",
    "version": 3
   },
   "file_extension": ".py",
   "mimetype": "text/x-python",
   "name": "python",
   "nbconvert_exporter": "python",
   "pygments_lexer": "ipython3",
   "version": "3.9.12"
  }
 },
 "nbformat": 4,
 "nbformat_minor": 5
}
